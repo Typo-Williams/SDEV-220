{
 "cells": [
  {
   "cell_type": "code",
   "execution_count": 2,
   "id": "eff80c8f",
   "metadata": {},
   "outputs": [
    {
     "data": {
      "text/plain": [
       "33.49333333333333"
      ]
     },
     "execution_count": 2,
     "metadata": {},
     "output_type": "execute_result"
    }
   ],
   "source": [
    "def vol(rad):\n",
    "    return (4/3) * (3.14) * rad ** 3\n",
    "\n",
    "vol(2)"
   ]
  },
  {
   "cell_type": "code",
   "execution_count": 9,
   "id": "ba1be5d5",
   "metadata": {},
   "outputs": [
    {
     "name": "stdout",
     "output_type": "stream",
     "text": [
      "5 is in the range between 2 and 7\n"
     ]
    },
    {
     "data": {
      "text/plain": [
       "True"
      ]
     },
     "execution_count": 9,
     "metadata": {},
     "output_type": "execute_result"
    }
   ],
   "source": [
    "def ran_check(num,low,high):\n",
    "    if num > low and num < high:\n",
    "        print(num, \"is in the range between\", low, \"and\", high)\n",
    "    elif num < low:\n",
    "        print(num, \"is below the range of\", low, \"and\", high)\n",
    "    elif num > high:\n",
    "        print(num, \"is above the range of\", low, \"and\", high)\n",
    "    \n",
    "ran_check(5,2,7)\n",
    "\n",
    "#or return as boolean\n",
    "\n",
    "def ran_check(num,low,high):\n",
    "    if num > low and num < high:\n",
    "        return True\n",
    "    elif num < low:\n",
    "        return False\n",
    "    elif num > high:\n",
    "        return False\n",
    "    \n",
    "ran_check(5,2,7)"
   ]
  },
  {
   "cell_type": "code",
   "execution_count": 5,
   "id": "9c165d99",
   "metadata": {},
   "outputs": [
    {
     "name": "stdout",
     "output_type": "stream",
     "text": [
      "No. of Upper case characters : 4\n",
      "No. of Lower case characters : 33\n"
     ]
    }
   ],
   "source": [
    "def up_low(s):\n",
    "    upperCounter = 0\n",
    "    lowerCounter = 0\n",
    "    for letter in s:\n",
    "        if letter.isupper() == True:\n",
    "            upperCounter += 1\n",
    "        elif letter.islower() == True:\n",
    "            lowerCounter += 1\n",
    "    print(\"No. of Upper case characters :\", upperCounter)\n",
    "    print(\"No. of Lower case characters :\", lowerCounter)\n",
    "    \n",
    "s = 'Hello Mr. Rogers, how are you this fine Tuesday?'\n",
    "\n",
    "up_low(s)"
   ]
  },
  {
   "cell_type": "code",
   "execution_count": 13,
   "id": "31c6b213",
   "metadata": {},
   "outputs": [
    {
     "name": "stdout",
     "output_type": "stream",
     "text": [
      "Sample list: [1, 1, 1, 2, 2, 3, 3, 3, 4, 4, 5, 6, 7, 9, 9]\n",
      "Unique list: [1, 2, 3, 4, 5, 6, 7, 9]\n"
     ]
    }
   ],
   "source": [
    "sampleList = [1,1,1,2,2,3,3,3,4,4,5,6,7,9,9]\n",
    "\n",
    "def unique(listInput):\n",
    "    list_set = set(listInput)\n",
    "    unique_list = (list(list_set))\n",
    "    \n",
    "    print(\"Sample list:\", sampleList)\n",
    "    print(\"Unique list:\",unique_list)\n",
    "        \n",
    "unique(sampleList)"
   ]
  },
  {
   "cell_type": "code",
   "execution_count": 18,
   "id": "bf18fc45",
   "metadata": {},
   "outputs": [
    {
     "name": "stdout",
     "output_type": "stream",
     "text": [
      "-24\n"
     ]
    }
   ],
   "source": [
    "sampleList = [1, 2, 3, -4]\n",
    "\n",
    "def multiply(listInput):\n",
    "    x = 0\n",
    "    multiple = listInput[x] * listInput[x+1]\n",
    "    for x in range(2, len(listInput)):\n",
    "        multiple = multiple * listInput[x]\n",
    "    print(multiple)\n",
    "\n",
    "multiply(sampleList)\n",
    "    "
   ]
  },
  {
   "cell_type": "code",
   "execution_count": 31,
   "id": "143208b0",
   "metadata": {},
   "outputs": [
    {
     "data": {
      "text/plain": [
       "True"
      ]
     },
     "execution_count": 31,
     "metadata": {},
     "output_type": "execute_result"
    }
   ],
   "source": [
    "def palindrome(s):\n",
    "    \n",
    "    for letter in s:\n",
    "        if letter == \" \":\n",
    "            s.replace(\" \")\n",
    "        else:\n",
    "            continue\n",
    "    reverse = s [::-1]\n",
    "    \n",
    "    if s.lower() == reverse.lower():\n",
    "        return True\n",
    "    else:\n",
    "        return False\n",
    "    \n",
    "palindrome(\"RaCeCaR\")\n",
    "\n"
   ]
  },
  {
   "cell_type": "code",
   "execution_count": 35,
   "id": "bb005835",
   "metadata": {},
   "outputs": [
    {
     "name": "stdout",
     "output_type": "stream",
     "text": [
      "True\n"
     ]
    }
   ],
   "source": [
    "import string\n",
    "\n",
    "def ispangram(string1, alphabet=string.ascii_lowercase):\n",
    "    abc_set = set(alphabet)\n",
    "    return abc_set <= set(string1.lower())\n",
    "\n",
    "print(ispangram('The quick brown fox jumps over the lazy dog'))\n",
    "    "
   ]
  },
  {
   "cell_type": "code",
   "execution_count": null,
   "id": "eaa6c837",
   "metadata": {},
   "outputs": [],
   "source": []
  }
 ],
 "metadata": {
  "kernelspec": {
   "display_name": "Python 3 (ipykernel)",
   "language": "python",
   "name": "python3"
  },
  "language_info": {
   "codemirror_mode": {
    "name": "ipython",
    "version": 3
   },
   "file_extension": ".py",
   "mimetype": "text/x-python",
   "name": "python",
   "nbconvert_exporter": "python",
   "pygments_lexer": "ipython3",
   "version": "3.9.13"
  }
 },
 "nbformat": 4,
 "nbformat_minor": 5
}
