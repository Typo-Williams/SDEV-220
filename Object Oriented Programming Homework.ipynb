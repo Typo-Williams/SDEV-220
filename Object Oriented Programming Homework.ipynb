{
 "cells": [
  {
   "cell_type": "code",
   "execution_count": 14,
   "id": "e4a3edc5",
   "metadata": {},
   "outputs": [
    {
     "data": {
      "text/plain": [
       "9.433981132056603"
      ]
     },
     "execution_count": 14,
     "metadata": {},
     "output_type": "execute_result"
    }
   ],
   "source": [
    "import math\n",
    "\n",
    "class Line:\n",
    "    \n",
    "    def __init__(self,coor1,coor2):\n",
    "        self.Line = Line\n",
    "        self.coor1 = coor1\n",
    "        self.coor2 = coor2\n",
    "    \n",
    "    def distance(self):\n",
    "        return math.sqrt(abs(((self.coor1[0]-self.coor2[0])** 2) + ((self.coor1[1] - self.coor2[1])** 2)))\n",
    "        \n",
    "    \n",
    "    def slope(self):\n",
    "        return (self.coor2[1] - self.coor1[1])/(self.coor2[0] - self.coor1[0])\n",
    "\n",
    "coordinate1 = (3,2)\n",
    "coordinate2 = (8,10)\n",
    "\n",
    "li = Line(coordinate1,coordinate2)\n",
    "\n",
    "li.distance()"
   ]
  },
  {
   "cell_type": "code",
   "execution_count": 7,
   "id": "beac286f",
   "metadata": {},
   "outputs": [
    {
     "data": {
      "text/plain": [
       "1.6"
      ]
     },
     "execution_count": 7,
     "metadata": {},
     "output_type": "execute_result"
    }
   ],
   "source": [
    "li.slope()"
   ]
  },
  {
   "cell_type": "code",
   "execution_count": 4,
   "id": "d8b2a8fe",
   "metadata": {},
   "outputs": [
    {
     "data": {
      "text/plain": [
       "56.52"
      ]
     },
     "execution_count": 4,
     "metadata": {},
     "output_type": "execute_result"
    }
   ],
   "source": [
    "class Cylinder:\n",
    "    def __init__(self,height=1,radius=1):\n",
    "        self.Cylinder = Cylinder\n",
    "        self.height = height\n",
    "        self.radius = radius\n",
    "    \n",
    "    def volume(self):\n",
    "        return 3.14 * (self.radius** 2) * self.height\n",
    "    \n",
    "    def surface_area(self):\n",
    "        return (2 * 3.14 * self.radius * self.height) + (2 * 3.14 * (self.radius** 2))\n",
    "    \n",
    "c = Cylinder(2,3)\n",
    "\n",
    "c.volume()"
   ]
  },
  {
   "cell_type": "code",
   "execution_count": 5,
   "id": "5442bfc1",
   "metadata": {},
   "outputs": [
    {
     "data": {
      "text/plain": [
       "94.2"
      ]
     },
     "execution_count": 5,
     "metadata": {},
     "output_type": "execute_result"
    }
   ],
   "source": [
    "class Cylinder:\n",
    "    def __init__(self,height=1,radius=1):\n",
    "        self.Cylinder = Cylinder\n",
    "        self.height = height\n",
    "        self.radius = radius\n",
    "    \n",
    "    def volume(self):\n",
    "        return 3.14 * (self.radius** 2) * self.height\n",
    "    \n",
    "    def surface_area(self):\n",
    "        return (2 * 3.14 * self.radius * self.height) + (2 * 3.14 * (self.radius** 2))\n",
    "    \n",
    "c = Cylinder(2,3)\n",
    "\n",
    "c.surface_area()\n"
   ]
  },
  {
   "cell_type": "code",
   "execution_count": null,
   "id": "6345ef3f",
   "metadata": {},
   "outputs": [],
   "source": []
  }
 ],
 "metadata": {
  "kernelspec": {
   "display_name": "Python 3 (ipykernel)",
   "language": "python",
   "name": "python3"
  },
  "language_info": {
   "codemirror_mode": {
    "name": "ipython",
    "version": 3
   },
   "file_extension": ".py",
   "mimetype": "text/x-python",
   "name": "python",
   "nbconvert_exporter": "python",
   "pygments_lexer": "ipython3",
   "version": "3.9.13"
  }
 },
 "nbformat": 4,
 "nbformat_minor": 5
}
