{
 "cells": [
  {
   "cell_type": "code",
   "execution_count": 1,
   "id": "748e5fae",
   "metadata": {},
   "outputs": [
    {
     "name": "stdout",
     "output_type": "stream",
     "text": [
      "too high\n"
     ]
    }
   ],
   "source": [
    "# 4.1\n",
    "\n",
    "secret = 2\n",
    "guess = 7\n",
    "\n",
    "if guess > secret:\n",
    "    print('too high')\n",
    "    \n",
    "elif guess < secret:\n",
    "    print('too low')\n",
    "\n",
    "else:\n",
    "    print('just right')\n"
   ]
  },
  {
   "cell_type": "code",
   "execution_count": 4,
   "id": "60208dc0",
   "metadata": {},
   "outputs": [
    {
     "name": "stdout",
     "output_type": "stream",
     "text": [
      "pea\n"
     ]
    }
   ],
   "source": [
    "# 4.2\n",
    "\n",
    "green = True\n",
    "small = True\n",
    "\n",
    "if small and green:\n",
    "    print('pea')\n",
    "\n",
    "elif small and not green:\n",
    "    print('cherry')\n",
    "\n",
    "elif green and not small:\n",
    "    print('watermelon')\n",
    "\n",
    "elif not green and not small:\n",
    "    print('pumpkin')"
   ]
  },
  {
   "cell_type": "code",
   "execution_count": 6,
   "id": "7f77ac44",
   "metadata": {},
   "outputs": [
    {
     "data": {
      "text/plain": [
       "[3, 2, 1, 0]"
      ]
     },
     "execution_count": 6,
     "metadata": {},
     "output_type": "execute_result"
    }
   ],
   "source": [
    "# 6.1\n",
    "\n",
    "list( range(3 , -1, -1))\n",
    "    "
   ]
  },
  {
   "cell_type": "code",
   "execution_count": 13,
   "id": "1f8c79eb",
   "metadata": {},
   "outputs": [
    {
     "name": "stdout",
     "output_type": "stream",
     "text": [
      "too low\n",
      "too low\n",
      "too low\n",
      "too low\n",
      "too low\n",
      "too low\n",
      "just right!\n"
     ]
    }
   ],
   "source": [
    "# 6.2\n",
    "\n",
    "guess_me = 7\n",
    "number = 1\n",
    "\n",
    "while True:\n",
    "    if number < guess_me:\n",
    "        print('too low')\n",
    "        number += 1\n",
    "    elif number > guess_me:\n",
    "        print('oops')\n",
    "        break\n",
    "    else:\n",
    "        print('just right!')\n",
    "        break\n"
   ]
  },
  {
   "cell_type": "code",
   "execution_count": 17,
   "id": "56d450d6",
   "metadata": {},
   "outputs": [
    {
     "name": "stdout",
     "output_type": "stream",
     "text": [
      "too low\n",
      "too low\n",
      "too low\n",
      "too low\n",
      "found it!\n"
     ]
    }
   ],
   "source": [
    "# 6.3\n",
    "\n",
    "guess_me = 5\n",
    "\n",
    "for number in range(1, 10, 1):\n",
    "    if number < guess_me:\n",
    "        print('too low')\n",
    "        \n",
    "    elif number > guess_me:\n",
    "        print('oops')\n",
    "        break\n",
    "        \n",
    "    else:\n",
    "        print('found it!')\n",
    "        break\n",
    "        "
   ]
  },
  {
   "cell_type": "code",
   "execution_count": null,
   "id": "cfb39be4",
   "metadata": {},
   "outputs": [],
   "source": []
  }
 ],
 "metadata": {
  "kernelspec": {
   "display_name": "Python 3 (ipykernel)",
   "language": "python",
   "name": "python3"
  },
  "language_info": {
   "codemirror_mode": {
    "name": "ipython",
    "version": 3
   },
   "file_extension": ".py",
   "mimetype": "text/x-python",
   "name": "python",
   "nbconvert_exporter": "python",
   "pygments_lexer": "ipython3",
   "version": "3.9.13"
  }
 },
 "nbformat": 4,
 "nbformat_minor": 5
}
