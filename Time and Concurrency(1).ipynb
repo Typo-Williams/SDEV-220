{
 "cells": [
  {
   "cell_type": "code",
   "execution_count": 1,
   "id": "e8e56528",
   "metadata": {},
   "outputs": [
    {
     "name": "stdout",
     "output_type": "stream",
     "text": [
      "['Saturday', 'February', '25', '2023']\n"
     ]
    }
   ],
   "source": [
    "import time\n",
    "\n",
    "format = \"%A %B %d %Y\"\n",
    "\n",
    "local = time.localtime()\n",
    "\n",
    "with open('today.txt', 'w') as now:\n",
    "    now.write(time.strftime(format, local))\n",
    "\n",
    "open_date = open('today.txt', 'r')\n",
    "today_string = open_date.read()\n",
    "\n",
    "print(today_string.split())\n"
   ]
  },
  {
   "cell_type": "code",
   "execution_count": 14,
   "id": "8076b8d8",
   "metadata": {},
   "outputs": [
    {
     "name": "stdout",
     "output_type": "stream",
     "text": [
      "Mon Feb 27 15:19:08 CST 2023\n",
      "Mon Feb 27 15:19:08 CST 2023\n",
      "Mon Feb 27 15:19:09 CST 2023\n"
     ]
    }
   ],
   "source": [
    "import subprocess\n",
    "from datetime import datetime\n",
    "import time\n",
    "import random\n",
    "\n",
    "\n",
    "\n",
    "def random_proc():\n",
    "    wait_time = random.random()\n",
    "    time.sleep(wait_time)\n",
    "    return subprocess.call('date')\n",
    "\n",
    "if __name__ == \"__main__\":\n",
    "    for x in range(3):\n",
    "        random_proc()\n"
   ]
  },
  {
   "cell_type": "code",
   "execution_count": null,
   "id": "96ab559d",
   "metadata": {},
   "outputs": [],
   "source": []
  },
  {
   "cell_type": "code",
   "execution_count": null,
   "id": "e5b66e06",
   "metadata": {},
   "outputs": [],
   "source": []
  }
 ],
 "metadata": {
  "kernelspec": {
   "display_name": "Python 3 (ipykernel)",
   "language": "python",
   "name": "python3"
  },
  "language_info": {
   "codemirror_mode": {
    "name": "ipython",
    "version": 3
   },
   "file_extension": ".py",
   "mimetype": "text/x-python",
   "name": "python",
   "nbconvert_exporter": "python",
   "pygments_lexer": "ipython3",
   "version": "3.9.13"
  }
 },
 "nbformat": 4,
 "nbformat_minor": 5
}
