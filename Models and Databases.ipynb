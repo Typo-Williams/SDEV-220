{
 "cells": [
  {
   "cell_type": "code",
   "execution_count": 1,
   "id": "25335af8",
   "metadata": {},
   "outputs": [
    {
     "name": "stdout",
     "output_type": "stream",
     "text": [
      "Open 9-5 daily\n"
     ]
    }
   ],
   "source": [
    "from zoo import hours\n",
    "\n",
    "hours()"
   ]
  },
  {
   "cell_type": "code",
   "execution_count": 2,
   "id": "12e0dab8",
   "metadata": {},
   "outputs": [
    {
     "name": "stdout",
     "output_type": "stream",
     "text": [
      "Open 9-5 daily\n"
     ]
    }
   ],
   "source": [
    "import zoo as managerie\n",
    "\n",
    "hours()"
   ]
  },
  {
   "cell_type": "code",
   "execution_count": 3,
   "id": "5a97681a",
   "metadata": {},
   "outputs": [
    {
     "name": "stdout",
     "output_type": "stream",
     "text": [
      "[('Lord of the Rings',), ('The Hobbit',)]\n"
     ]
    }
   ],
   "source": [
    "import sqlite3\n",
    "\n",
    "conn = sqlite3.connect('books.db')\n",
    "curs = conn.cursor()\n",
    "curs.execute('''CREATE TABLE books\n",
    "    (title VARCHAR(80) PRIMARY KEY,\n",
    "     author VARCHAR(80),\n",
    "    year INT)''')\n",
    "\n",
    "ins = 'INSERT INTO books (title, author, year) VALUES(?, ?, ?)'\n",
    "curs.execute(ins, ('Lord of the Rings', 'Tolkien', 1954))\n",
    "curs.execute(ins, ('The Hobbit', 'Tolkien', 1937))\n",
    "\n",
    "curs.execute('SELECT title FROM books')\n",
    "rows = curs.fetchall()\n",
    "print(rows)\n"
   ]
  },
  {
   "cell_type": "code",
   "execution_count": 4,
   "id": "c6896462",
   "metadata": {},
   "outputs": [
    {
     "name": "stdout",
     "output_type": "stream",
     "text": [
      "[]\n"
     ]
    }
   ],
   "source": [
    "import sqlalchemy as sa\n",
    "import sqlite3\n",
    "from sqlalchemy import create_engine\n",
    "\n",
    "engine = create_engine('sqlite:///books.db')\n",
    "connection = engine.raw_connection()\n",
    "cursor = connection.cursor()\n",
    "\n",
    "\n",
    "cursor.execute('SELECT title FROM books')\n",
    "rows = cursor.fetchall()\n",
    "print(rows)\n"
   ]
  },
  {
   "cell_type": "code",
   "execution_count": null,
   "id": "e3e04616",
   "metadata": {},
   "outputs": [],
   "source": []
  }
 ],
 "metadata": {
  "kernelspec": {
   "display_name": "Python 3 (ipykernel)",
   "language": "python",
   "name": "python3"
  },
  "language_info": {
   "codemirror_mode": {
    "name": "ipython",
    "version": 3
   },
   "file_extension": ".py",
   "mimetype": "text/x-python",
   "name": "python",
   "nbconvert_exporter": "python",
   "pygments_lexer": "ipython3",
   "version": "3.9.13"
  }
 },
 "nbformat": 4,
 "nbformat_minor": 5
}
